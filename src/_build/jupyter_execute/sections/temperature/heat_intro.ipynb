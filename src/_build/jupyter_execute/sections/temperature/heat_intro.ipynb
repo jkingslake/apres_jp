{
 "cells": [
  {
   "cell_type": "markdown",
   "id": "f72f3487-0dee-4faa-a506-b60173de8536",
   "metadata": {
    "tags": []
   },
   "source": [
    "# Heat flow \n",
    "## Introduction\n",
    "The temerature of ice sheet and glaciers is fundamental to their behaivour. Warmer ice deforms faster, warmer firn compacts faster, and when ice or snow reaches the melting point it melts, producing meltwater with many consequences. In this chapter we will derive a general equation for heat flow in glaciers and ice sheets, solve it analytically for a simple case, and solve it numerically to gain an intution for the physics of heat flow and the distribution of temperature in ice sheets. \n",
    "\n",
    "\n"
   ]
  }
 ],
 "metadata": {
  "kernelspec": {
   "display_name": "Python 3",
   "language": "python",
   "name": "python3"
  },
  "language_info": {
   "codemirror_mode": {
    "name": "ipython",
    "version": 3
   },
   "file_extension": ".py",
   "mimetype": "text/x-python",
   "name": "python",
   "nbconvert_exporter": "python",
   "pygments_lexer": "ipython3",
   "version": "3.7.11"
  }
 },
 "nbformat": 4,
 "nbformat_minor": 5
}