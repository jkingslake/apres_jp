{
 "cells": [
  {
   "cell_type": "markdown",
   "id": "208ac01a-26af-4c51-b33b-3284ed3ae494",
   "metadata": {},
   "source": [
    "(frequency-and-range)=\n",
    "# Frequency and range"
   ]
  },
  {
   "cell_type": "markdown",
   "id": "6780cd12-b423-4758-b78a-58654775f710",
   "metadata": {},
   "source": [
    "Many of the material on this and following pages can be found in the [ApRES manual](https://github.com/ldeo-glaciology/phase-sensitive-radar-processing/blob/5cce6bd838cb70e290316195af9ceefe3d4a52ee/other%20documents/ApRES%20Manual%20V102.1.pdf), Brennan et al., ????, and Nicholls et al. 2015. \n",
    "\n",
    "ApRES emits 'chirps', which consist of continuous radio waves lasting 1 second. Due each chirp the frequency of the emmitted radio wave increased linearly with time from $f1$ to $f2$ where the bandwidth $B = f2-f1$. The signal is transmitted downwards into the ice sheet and is partly reflected back to the radar's receiving antenna where it is compared to the transmitted signal to determine the travel time of the signal and hence the range to sub-surface reflectors. Specifically, at every moment during a chirp the radar measures the difference between the frequency of the reveived signal and signal being tranmistted in that instant. Because the transmitted signal is always increasing in frequency and because the reveived signal was tranmitted a few milliseconds earlier than it is received, the recieved signal is always lower frequency than the transmitted signal. \n",
    "\n",
    "\n",
    "\n"
   ]
  },
  {
   "cell_type": "markdown",
   "id": "94be9e38-af6d-4a73-8f14-e3724a9d0365",
   "metadata": {},
   "source": [
    "## TO do: add cartoon of chirp and delay in received signal"
   ]
  },
  {
   "cell_type": "markdown",
   "id": "5d099010-a5e2-4b33-851e-79dd8bb430c9",
   "metadata": {},
   "source": [
    "## To do: derive Equation 1 from Brennan et al. "
   ]
  },
  {
   "cell_type": "markdown",
   "id": "14ab8fb3-07b7-496c-8fdb-c81fa032e669",
   "metadata": {},
   "source": [
    "This expression describes how the frequency difference between the transmitted signal and the received signal relates to the range to a reflector detected by ApRES. What we havent discussed is how this frequency difference is calculated. Next, we discuss how combining and summing the received and transmitted signals, then filtering the result, allows this to be computed using the concept of *beat frequency*"
   ]
  }
 ],
 "metadata": {
  "kernelspec": {
   "display_name": "Python 3",
   "language": "python",
   "name": "python3"
  },
  "language_info": {
   "codemirror_mode": {
    "name": "ipython",
    "version": 3
   },
   "file_extension": ".py",
   "mimetype": "text/x-python",
   "name": "python",
   "nbconvert_exporter": "python",
   "pygments_lexer": "ipython3",
   "version": "3.7.11"
  },
  "vscode": {
   "interpreter": {
    "hash": "d30c63c32c419ea9f0bba7809c4e773ec43b1ff3bce90afeee7dfc4932bbd9b5"
   }
  }
 },
 "nbformat": 4,
 "nbformat_minor": 5
}
