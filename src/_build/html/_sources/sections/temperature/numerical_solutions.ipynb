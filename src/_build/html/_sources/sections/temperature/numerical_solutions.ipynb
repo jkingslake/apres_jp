{
 "cells": [
  {
   "cell_type": "markdown",
   "id": "10c57dfa-3c3d-43d1-b1b9-c278721a7a08",
   "metadata": {},
   "source": [
    "# Numerical solutions"
   ]
  }
 ],
 "metadata": {
  "kernelspec": {
   "display_name": "Python 3.6.15",
   "language": "python",
   "name": "python3"
  },
  "language_info": {
   "codemirror_mode": {
    "name": "ipython",
    "version": 3
   },
   "file_extension": ".py",
   "mimetype": "text/x-python",
   "name": "python",
   "nbconvert_exporter": "python",
   "pygments_lexer": "ipython3",
   "version": "3.6.15"
  },
  "vscode": {
   "interpreter": {
    "hash": "d30c63c32c419ea9f0bba7809c4e773ec43b1ff3bce90afeee7dfc4932bbd9b5"
   }
  }
 },
 "nbformat": 4,
 "nbformat_minor": 5
}
