{
 "cells": [
  {
   "cell_type": "markdown",
   "id": "0e4f54ff-898a-4f3b-8c92-1cc6401f9313",
   "metadata": {},
   "source": [
    "# An analytical solution\n",
    "In this section we apply the general heat equation we derived in the previous section to a simplified scenario in which we have no advection and the temperature and the ice-sheet surface varies sinusoidally with time. Under these condictions an 'analytical' solution to the equation can be found, i.e. one which does not require any computational methods to derive. Analytical solutions are useful for building intuition for the physics and for testing numerical solutions."
   ]
  },
  {
   "cell_type": "markdown",
   "id": "f752c131-987f-44ab-94cb-6d1f223a8f78",
   "metadata": {},
   "source": [
    "Our full heat equation, derived on the previous page is \n",
    "\n",
    "$$\n",
    "\\frac{\\partial T}{\\partial t} = \n",
    "-   u  \\frac{\\partial T}{\\partial x}\n",
    "- v  \\frac{\\partial T}{\\partial y}\n",
    "-  w  \\frac{\\partial T}{\\partial z}  \n",
    "+  \\frac{1}{c \\rho}\\left[\\frac{\\partial}{\\partial x} \\left( K \\frac{\\partial T}{\\partial x}  \\right)\n",
    "  +  \\frac{\\partial}{\\partial y} \\left( K \\frac{\\partial T}{\\partial y}  \\right)\n",
    "  +  \\frac{\\partial}{\\partial z} \\left( K \\frac{\\partial T}{\\partial z}  \\right)\\right]\n",
    "$$(Heat_eq_full)"
   ]
  }
 ],
 "metadata": {
  "kernelspec": {
   "display_name": "Python 3.6.15",
   "language": "python",
   "name": "python3"
  },
  "language_info": {
   "codemirror_mode": {
    "name": "ipython",
    "version": 3
   },
   "file_extension": ".py",
   "mimetype": "text/x-python",
   "name": "python",
   "nbconvert_exporter": "python",
   "pygments_lexer": "ipython3",
   "version": "3.6.15 | packaged by conda-forge | (default, Dec  3 2021, 18:49:43) \n[GCC Clang 11.1.0]"
  },
  "vscode": {
   "interpreter": {
    "hash": "d30c63c32c419ea9f0bba7809c4e773ec43b1ff3bce90afeee7dfc4932bbd9b5"
   }
  }
 },
 "nbformat": 4,
 "nbformat_minor": 5
}
